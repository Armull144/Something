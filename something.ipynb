{
 "cells": [
  {
   "cell_type": "code",
   "execution_count": null,
   "metadata": {},
   "outputs": [],
   "source": [
    "name = input(\"Enter your name: \")\n",
    "undergrad = input(\"Are you an undergrad student or in highschool? Respond with yes or no.\")\n",

    "if undergrad == "yes":\n",

        "year = int(input(\"What year are you in?(1-4)\"))\n",
        
        "if 0<year<5:\n",
        "    if year==1:\n",
        "        print(name, \" is a freshman and they're major is \", major)\n",
        "    if year==2:\n",
        "        print(name, \" is a Sophmore and they're major is \", major)\n",
        "    if year==3:\n",
        "        print(name, \" is a Junior and they're major is \", major)\n",
        "    if year==4:\n",
        "        print(name, \" is a Senior and they're major is \", major)\n",
        
        "elif year == 0:\n",
        "    print(name, \" is a highschooler.\")\n",

    "else:\n",
    "    print(name, \"is not an undergrad.\")"

    "lilpicture = input(\"Do you want to see a cat or bird? Respond with cat or bird.\")\n",

    "if lilpicture == "cat":\n",
        print(\"      /\___/\ \")\n",
        print(\"     ( =^.^= )\")\n",
        print(\"     (\"\") (\"\")__/\")\n",
     
    "elif lilpicture == "bird":\n",
        print(\"        _____\")\n",
        print(\"       (` V `)\")\n",
        print(\"      ((_____))\")\n",
        print(\"         ^ ^\")\n",


   ]
  },
  {
   "cell_type": "code",
   "execution_count": null,
   "metadata": {},
   "outputs": [],
   "source": []
  }
 ],
 "metadata": {
  "kernelspec": {
   "display_name": "Python 3",
   "language": "python",
   "name": "python3"
  },
  "language_info": {
   "codemirror_mode": {
    "name": "ipython",
    "version": 3
   },
   "file_extension": ".py",
   "mimetype": "text/x-python",
   "name": "python",
   "nbconvert_exporter": "python",
   "pygments_lexer": "ipython3",
   "version": "3.8.3"
  }
 },
 "nbformat": 4,
 "nbformat_minor": 4
}
