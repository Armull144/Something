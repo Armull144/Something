{
 "cells": [
  {
   "cell_type": "code",
   "execution_count": null,
   "metadata": {},
   "outputs": [],
   "source": [
    "name = input(\"Enter your name: \")\n",
    "year = int(input(\"What year are you in?(1-4)\"))\n",
    "major = input(\"What is your major?\"\n",

    "if 0<year<5:\n",
    "    if year==1:\n",
    "        print(name, \" is a freshman and they're major is \", major)\n",
    "    if year==2:\n",
    "        print(name, \" is a Sophmore and they're major is \", major)\n",
    "    if year==3:\n",
    "        print(name, \" is a Junior and they're major is \", major)\n",
    "    if year==4:\n",
    "        print(name, \" is a Senior and they're major is \", major)\n",
    "else if year == 0:\n",
    "    print(name, \" is a highschooler.\")\n",
    "else:\n",
    "    print(name, \"is not an undergrad.\")"
   ]
  },
  {
   "cell_type": "code",
   "execution_count": null,
   "metadata": {},
   "outputs": [],
   "source": []
  }
 ],
 "metadata": {
  "kernelspec": {
   "display_name": "Python 3",
   "language": "python",
   "name": "python3"
  },
  "language_info": {
   "codemirror_mode": {
    "name": "ipython",
    "version": 3
   },
   "file_extension": ".py",
   "mimetype": "text/x-python",
   "name": "python",
   "nbconvert_exporter": "python",
   "pygments_lexer": "ipython3",
   "version": "3.8.3"
  }
 },
 "nbformat": 4,
 "nbformat_minor": 4
}
